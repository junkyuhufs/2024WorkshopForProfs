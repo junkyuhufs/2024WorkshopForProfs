{
  "nbformat": 4,
  "nbformat_minor": 0,
  "metadata": {
    "colab": {
      "provenance": [],
      "authorship_tag": "ABX9TyOZ6Y607CMyrl9bpWJA43Bk",
      "include_colab_link": true
    },
    "kernelspec": {
      "name": "python3",
      "display_name": "Python 3"
    },
    "language_info": {
      "name": "python"
    }
  },
  "cells": [
    {
      "cell_type": "markdown",
      "metadata": {
        "id": "view-in-github",
        "colab_type": "text"
      },
      "source": [
        "<a href=\"https://colab.research.google.com/github/junkyuhufs/2024WorkshopForProfs/blob/main/Youtube.ipynb\" target=\"_parent\"><img src=\"https://colab.research.google.com/assets/colab-badge.svg\" alt=\"Open In Colab\"/></a>"
      ]
    },
    {
      "cell_type": "markdown",
      "source": [
        "##Open Youtube"
      ],
      "metadata": {
        "id": "mUqNI9QAf_w_"
      }
    },
    {
      "cell_type": "code",
      "execution_count": null,
      "metadata": {
        "id": "LcB_ladUfQ2u"
      },
      "outputs": [],
      "source": [
        "!pip install pytube\n",
        "\n",
        "from IPython.display import YouTubeVideo\n",
        "\n",
        "# YouTube video ID\n",
        "video_id = 'tYa6OLQHrEc'\n",
        "\n",
        "# Display the YouTube video directly in the notebook\n",
        "display(YouTubeVideo(video_id, width=640, height=480))"
      ]
    },
    {
      "cell_type": "markdown",
      "source": [
        "## Open Youtube (video id is needed to enter)"
      ],
      "metadata": {
        "id": "VuhhGslCgD28"
      }
    },
    {
      "cell_type": "code",
      "source": [
        "# 필요한 라이브러리 설치\n",
        "!pip install gradio\n",
        "\n",
        "import gradio as gr\n",
        "\n",
        "# Gradio 앱 정의\n",
        "def display_video(video_id):\n",
        "    # YouTube 동영상 ID를 받아서 iframe 태그로 HTML 생성\n",
        "    embed_html = f\"\"\"\n",
        "    <iframe width=\"640\" height=\"480\"\n",
        "    src=\"https://www.youtube.com/embed/{video_id}\"\n",
        "    frameborder=\"0\" allow=\"accelerometer; autoplay; clipboard-write; encrypted-media; gyroscope; picture-in-picture\"\n",
        "    allowfullscreen></iframe>\n",
        "    \"\"\"\n",
        "    return embed_html\n",
        "\n",
        "# Gradio 인터페이스 구성\n",
        "with gr.Blocks() as demo:\n",
        "    gr.Markdown(\"### YouTube Video Viewer\")\n",
        "    video_id_input = gr.Textbox(label=\"Enter YouTube Video ID\", placeholder=\"e.g., tYa6OLQHrEc\")\n",
        "    video_output = gr.HTML(label=\"YouTube Video\")\n",
        "    video_id_input.change(display_video, inputs=video_id_input, outputs=video_output)\n",
        "\n",
        "# 앱 실행\n",
        "demo.launch()\n"
      ],
      "metadata": {
        "id": "95AXEklxfsnL"
      },
      "execution_count": null,
      "outputs": []
    }
  ]
}