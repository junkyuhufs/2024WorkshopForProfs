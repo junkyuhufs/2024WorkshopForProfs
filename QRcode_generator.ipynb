{
  "nbformat": 4,
  "nbformat_minor": 0,
  "metadata": {
    "colab": {
      "provenance": [],
      "authorship_tag": "ABX9TyO/GzXrCO/3r8iT2NU2VK0/",
      "include_colab_link": true
    },
    "kernelspec": {
      "name": "python3",
      "display_name": "Python 3"
    },
    "language_info": {
      "name": "python"
    }
  },
  "cells": [
    {
      "cell_type": "markdown",
      "metadata": {
        "id": "view-in-github",
        "colab_type": "text"
      },
      "source": [
        "<a href=\"https://colab.research.google.com/github/junkyuhufs/2024WorkshopForProfs/blob/main/QRcode_generator.ipynb\" target=\"_parent\"><img src=\"https://colab.research.google.com/assets/colab-badge.svg\" alt=\"Open In Colab\"/></a>"
      ]
    },
    {
      "cell_type": "code",
      "source": [
        "# 필요한 라이브러리 설치\n",
        "!pip install qrcode[pil] pillow gradio\n",
        "\n",
        "import qrcode\n",
        "from PIL import Image\n",
        "import gradio as gr\n",
        "\n",
        "def generate_qr(data):\n",
        "    try:\n",
        "        # 1. 기본 QR 코드 생성\n",
        "        qr = qrcode.QRCode(\n",
        "            version=1,  # QR 코드 크기 (1은 가장 작은 크기)\n",
        "            error_correction=qrcode.constants.ERROR_CORRECT_H,\n",
        "            box_size=10,\n",
        "            border=4,\n",
        "        )\n",
        "        qr.add_data(data)\n",
        "        qr.make(fit=True)\n",
        "\n",
        "        # 2. QR 코드 이미지 생성\n",
        "        qr_img = qr.make_image(fill_color=\"black\", back_color=\"white\").convert(\"RGB\")\n",
        "        return qr_img\n",
        "\n",
        "    except Exception as e:\n",
        "        return Image.new(\"RGB\", (300, 300), color=\"white\")  # 오류 발생 시 빈 이미지 반환\n",
        "\n",
        "# Gradio 인터페이스 설정\n",
        "with gr.Blocks() as demo:\n",
        "    gr.Markdown(\"### QR Code Generator\")\n",
        "    data_input = gr.Textbox(label=\"Enter data for QR Code\", placeholder=\"e.g., https://www.example.com\")\n",
        "    qr_output = gr.Image(label=\"Generated QR Code\", type=\"pil\")\n",
        "\n",
        "    data_input.submit(generate_qr, inputs=data_input, outputs=qr_output)\n",
        "\n",
        "# 앱 실행\n",
        "demo.launch()\n"
      ],
      "metadata": {
        "id": "StHOTxvxnL-O"
      },
      "execution_count": null,
      "outputs": []
    }
  ]
}