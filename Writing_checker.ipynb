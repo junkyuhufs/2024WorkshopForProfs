{
  "nbformat": 4,
  "nbformat_minor": 0,
  "metadata": {
    "colab": {
      "provenance": [],
      "authorship_tag": "ABX9TyO6DqAYFW3jiFu18ME3nawm",
      "include_colab_link": true
    },
    "kernelspec": {
      "name": "python3",
      "display_name": "Python 3"
    },
    "language_info": {
      "name": "python"
    }
  },
  "cells": [
    {
      "cell_type": "markdown",
      "metadata": {
        "id": "view-in-github",
        "colab_type": "text"
      },
      "source": [
        "<a href=\"https://colab.research.google.com/github/junkyuhufs/2024WorkshopForProfs/blob/main/Writing_checker.ipynb\" target=\"_parent\"><img src=\"https://colab.research.google.com/assets/colab-badge.svg\" alt=\"Open In Colab\"/></a>"
      ]
    },
    {
      "cell_type": "code",
      "execution_count": null,
      "metadata": {
        "id": "AlURKSWltxvd"
      },
      "outputs": [],
      "source": [
        "!pip install language_tool_python gradio\n",
        "\n",
        "import gradio as gr\n",
        "import language_tool_python\n",
        "\n",
        "# Initialize the LanguageTool object for English\n",
        "tool = language_tool_python.LanguageTool('en-US')\n",
        "\n",
        "# Grammar and style check function\n",
        "def check_grammar(text):\n",
        "    matches = tool.check(text)\n",
        "    if not matches:\n",
        "        return \"No mistakes found!\", \"Great job! Your text is perfect!\"\n",
        "    else:\n",
        "        # Apply corrections\n",
        "        corrected_text = text\n",
        "        for match in reversed(matches):  # Reverse to avoid index shifting\n",
        "            start, end = match.offset, match.offset + match.errorLength\n",
        "            corrected_text = corrected_text[:start] + match.replacements[0] + corrected_text[end:]\n",
        "\n",
        "        # Create detailed feedback\n",
        "        feedback = \"\\n\".join(\n",
        "            f\"Error {i + 1}: '{match.context}'\\nSuggestion: {', '.join(match.replacements) or 'No suggestions available'}\\nMessage: {match.message}\\n\"\n",
        "            for i, match in enumerate(matches)\n",
        "        )\n",
        "        return corrected_text, f\"Found {len(matches)} mistakes:\\n\\n{feedback}\"\n",
        "\n",
        "# Gradio interface\n",
        "with gr.Blocks() as iface:\n",
        "    with gr.Row():\n",
        "        gr.Markdown(\"# Gradio Writing Checker App\")\n",
        "\n",
        "    gr.Markdown(\n",
        "        \"\"\"\n",
        "        ### ✨ Improve Your Writing Instantly!\n",
        "        This app analyzes your text for grammar and style issues. It will:\n",
        "        - Highlight mistakes\n",
        "        - Suggest corrections\n",
        "        - Explain the issues found\n",
        "\n",
        "        Just enter your text below and click \"Check Grammar\"!\n",
        "\n",
        "        ---\n",
        "\n",
        "        ### Writing Prompt:\n",
        "        In the story, the Fox tries repeatedly to reach a tempting bunch of grapes, only to give up and convince himself that the grapes were not worth the effort.\n",
        "\n",
        "        Have you ever had an experience where you worked hard to achieve something but decided to give up in the end? Share your story.\n",
        "        - Describe what you were trying to accomplish, why you stopped, and how you felt afterward.\n",
        "        - Reflect on your decision and relate it to the lesson in the story.\n",
        "        - Remember to use past tense in your writing and provide reasons for your feelings and actions.\n",
        "        \"\"\"\n",
        "    )\n",
        "\n",
        "    with gr.Row():\n",
        "        # User input text box\n",
        "        input_text = gr.Textbox(label=\"Enter your text here\", placeholder=\"Type your text...\", lines=6)\n",
        "\n",
        "    with gr.Row():\n",
        "        # Output sections\n",
        "        corrected_output = gr.Textbox(label=\"Corrected Text\", placeholder=\"Your corrected text will appear here.\", lines=6)\n",
        "        feedback_output = gr.Textbox(label=\"Detailed Feedback\", placeholder=\"Error explanations will appear here.\", lines=10)\n",
        "\n",
        "    # Grammar check button\n",
        "    btn = gr.Button(\"Check Grammar\")\n",
        "\n",
        "    # Button click triggers the grammar check\n",
        "    btn.click(fn=check_grammar, inputs=input_text, outputs=[corrected_output, feedback_output])\n",
        "\n",
        "iface.launch()"
      ]
    }
  ]
}