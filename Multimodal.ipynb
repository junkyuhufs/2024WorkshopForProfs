{
  "nbformat": 4,
  "nbformat_minor": 0,
  "metadata": {
    "colab": {
      "provenance": [],
      "gpuType": "T4",
      "authorship_tag": "ABX9TyMNgiAplIhRaD6/EJqSl9ts",
      "include_colab_link": true
    },
    "kernelspec": {
      "name": "python3",
      "display_name": "Python 3"
    },
    "language_info": {
      "name": "python"
    },
    "accelerator": "GPU"
  },
  "cells": [
    {
      "cell_type": "markdown",
      "metadata": {
        "id": "view-in-github",
        "colab_type": "text"
      },
      "source": [
        "<a href=\"https://colab.research.google.com/github/junkyuhufs/2024WorkshopForProfs/blob/main/Multimodal.ipynb\" target=\"_parent\"><img src=\"https://colab.research.google.com/assets/colab-badge.svg\" alt=\"Open In Colab\"/></a>"
      ]
    },
    {
      "cell_type": "markdown",
      "source": [
        "##Multilingual TTS"
      ],
      "metadata": {
        "id": "ixAb24BI6Yxz"
      }
    },
    {
      "cell_type": "code",
      "source": [
        "!pip install gradio\n",
        "!pip install gTTS\n",
        "\n",
        "import gradio as gr\n",
        "from gtts import gTTS\n",
        "import os\n",
        "\n",
        "def generate_audio(text, accent):\n",
        "    accents = {\n",
        "        \"영국영어\": \"en\",\n",
        "        \"미국영어\": \"en\",\n",
        "        \"한국영어\": \"ko\",\n",
        "    }\n",
        "    if accent not in accents:\n",
        "        return \"Invalid accent selection\"\n",
        "\n",
        "    try:\n",
        "        # Generate the audio using gTTS\n",
        "        lang_code = accents[accent]\n",
        "        tld = \"co.uk\" if accent == \"영국영어\" else \"com\"\n",
        "        tts = gTTS(text=text, lang=lang_code, tld=tld)\n",
        "\n",
        "        # Save audio to a file\n",
        "        output_file = \"output.mp3\"\n",
        "        tts.save(output_file)\n",
        "\n",
        "        return output_file\n",
        "    except Exception as e:\n",
        "        return f\"Error generating audio: {str(e)}\"\n",
        "\n",
        "# Gradio interface\n",
        "with gr.Blocks() as app:\n",
        "    gr.Markdown(\"## 영국영어, 미국영어, 한국영어 음성 변환기\")\n",
        "\n",
        "    with gr.Row():\n",
        "        text_input = gr.Textbox(label=\"문장을 입력하세요\", placeholder=\"여기에 문장을 입력하세요.\")\n",
        "        accent_choice = gr.Radio([\"영국영어\", \"미국영어\", \"한국영어\"], label=\"발음을 선택하세요\")\n",
        "\n",
        "    output_audio = gr.Audio(label=\"생성된 오디오\", type=\"filepath\")\n",
        "\n",
        "    submit_button = gr.Button(\"음성 생성\")\n",
        "\n",
        "    submit_button.click(generate_audio, inputs=[text_input, accent_choice], outputs=output_audio)\n",
        "\n",
        "app.launch()\n"
      ],
      "metadata": {
        "id": "-bZhJ6Vf5BNZ"
      },
      "execution_count": null,
      "outputs": []
    }
  ]
}